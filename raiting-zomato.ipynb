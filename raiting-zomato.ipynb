{
 "cells": [
  {
   "cell_type": "markdown",
   "id": "48b637ba",
   "metadata": {},
   "source": [
    "# Analysis Data of Rating Zomato Resturant \n",
    "### In this project, we intend to analyze the data of Zomato restaurant and review their ranking method \n",
    "\n",
    "\n",
    "### Table content: The steps will generally be as follows:\n",
    "- Extract and convert data to standard CSV\n",
    "- Normalize many data\n",
    "- The information is divided into two segment\n",
    "- Clustering feature with k-means method unsupervised\n",
    "- Merging clusters and sticking the label to data about delivery and classy ambiance\n",
    "- Classification data for predicting user ratting\n",
    "- Analysis functionality method be run\n",
    "\n",
    "\n",
    "##### Developed by: M.khaki\n",
    "\n",
    "#### Data from: kaggle.com\n"
   ]
  },
  {
   "cell_type": "code",
   "execution_count": 1,
   "id": "f9dc1ac5",
   "metadata": {},
   "outputs": [],
   "source": [
    "import numpy as np \n",
    "import pandas as pd\n",
    "import matplotlib.pyplot as plt\n",
    "import json\n",
    "import csv\n",
    "import os\n",
    "from sklearn import svm\n",
    "from sklearn import preprocessing\n",
    "from sklearn.cluster import KMeans\n",
    "from sklearn.metrics import RocCurveDisplay\n",
    "from sklearn.metrics import cohen_kappa_score\n",
    "from sklearn.model_selection import train_test_split\n",
    "from collections import Counter\n",
    "\n",
    "itemNumberFile=[75,75,75,75,68]"
   ]
  },
  {
   "cell_type": "markdown",
   "id": "3cec06df",
   "metadata": {},
   "source": [
    "## Extracte and Convert Data to Standard CSV\n",
    "In this block, the required for this project is extracted five JSON data from the zomato restaurant on the Kaggle website.\n",
    "Also, these items have been converted from JSON to CSV for further analysis"
   ]
  },
  {
   "cell_type": "code",
   "execution_count": 2,
   "id": "d96527ad",
   "metadata": {},
   "outputs": [
    {
     "data": {
      "text/html": [
       "<div>\n",
       "<style scoped>\n",
       "    .dataframe tbody tr th:only-of-type {\n",
       "        vertical-align: middle;\n",
       "    }\n",
       "\n",
       "    .dataframe tbody tr th {\n",
       "        vertical-align: top;\n",
       "    }\n",
       "\n",
       "    .dataframe thead th {\n",
       "        text-align: right;\n",
       "    }\n",
       "</style>\n",
       "<table border=\"1\" class=\"dataframe\">\n",
       "  <thead>\n",
       "    <tr style=\"text-align: right;\">\n",
       "      <th></th>\n",
       "      <th>id</th>\n",
       "      <th>has_online_delivery</th>\n",
       "      <th>has_table_booking</th>\n",
       "      <th>is_delivering_now</th>\n",
       "      <th>switch_to_order_menu</th>\n",
       "      <th>cuisines</th>\n",
       "      <th>average_cost_for_two</th>\n",
       "      <th>price_range</th>\n",
       "      <th>votes</th>\n",
       "      <th>aggregate_rating</th>\n",
       "    </tr>\n",
       "  </thead>\n",
       "  <tbody>\n",
       "    <tr>\n",
       "      <th>count</th>\n",
       "      <td>5.863000e+03</td>\n",
       "      <td>5863.000000</td>\n",
       "      <td>5863.000000</td>\n",
       "      <td>5863.000000</td>\n",
       "      <td>5863.0</td>\n",
       "      <td>5863.000000</td>\n",
       "      <td>5863.000000</td>\n",
       "      <td>5863.000000</td>\n",
       "      <td>5863.000000</td>\n",
       "      <td>5863.000000</td>\n",
       "    </tr>\n",
       "    <tr>\n",
       "      <th>mean</th>\n",
       "      <td>8.744872e+06</td>\n",
       "      <td>0.211837</td>\n",
       "      <td>0.172096</td>\n",
       "      <td>0.001364</td>\n",
       "      <td>0.0</td>\n",
       "      <td>2.421457</td>\n",
       "      <td>2512.196657</td>\n",
       "      <td>2.327477</td>\n",
       "      <td>593.585195</td>\n",
       "      <td>3.441958</td>\n",
       "    </tr>\n",
       "    <tr>\n",
       "      <th>std</th>\n",
       "      <td>8.420713e+06</td>\n",
       "      <td>0.408645</td>\n",
       "      <td>0.377496</td>\n",
       "      <td>0.036917</td>\n",
       "      <td>0.0</td>\n",
       "      <td>1.256548</td>\n",
       "      <td>23041.702274</td>\n",
       "      <td>0.979424</td>\n",
       "      <td>1004.168178</td>\n",
       "      <td>1.243756</td>\n",
       "    </tr>\n",
       "    <tr>\n",
       "      <th>min</th>\n",
       "      <td>4.000000e+00</td>\n",
       "      <td>0.000000</td>\n",
       "      <td>0.000000</td>\n",
       "      <td>0.000000</td>\n",
       "      <td>0.0</td>\n",
       "      <td>1.000000</td>\n",
       "      <td>0.000000</td>\n",
       "      <td>1.000000</td>\n",
       "      <td>0.000000</td>\n",
       "      <td>0.000000</td>\n",
       "    </tr>\n",
       "    <tr>\n",
       "      <th>25%</th>\n",
       "      <td>3.035740e+05</td>\n",
       "      <td>0.000000</td>\n",
       "      <td>0.000000</td>\n",
       "      <td>0.000000</td>\n",
       "      <td>0.0</td>\n",
       "      <td>1.000000</td>\n",
       "      <td>150.000000</td>\n",
       "      <td>2.000000</td>\n",
       "      <td>28.000000</td>\n",
       "      <td>3.300000</td>\n",
       "    </tr>\n",
       "    <tr>\n",
       "      <th>50%</th>\n",
       "      <td>5.915547e+06</td>\n",
       "      <td>0.000000</td>\n",
       "      <td>0.000000</td>\n",
       "      <td>0.000000</td>\n",
       "      <td>0.0</td>\n",
       "      <td>2.000000</td>\n",
       "      <td>550.000000</td>\n",
       "      <td>2.000000</td>\n",
       "      <td>152.000000</td>\n",
       "      <td>3.800000</td>\n",
       "    </tr>\n",
       "    <tr>\n",
       "      <th>75%</th>\n",
       "      <td>1.816160e+07</td>\n",
       "      <td>0.000000</td>\n",
       "      <td>0.000000</td>\n",
       "      <td>0.000000</td>\n",
       "      <td>0.0</td>\n",
       "      <td>3.000000</td>\n",
       "      <td>1100.000000</td>\n",
       "      <td>3.000000</td>\n",
       "      <td>671.500000</td>\n",
       "      <td>4.200000</td>\n",
       "    </tr>\n",
       "    <tr>\n",
       "      <th>max</th>\n",
       "      <td>1.849649e+07</td>\n",
       "      <td>1.000000</td>\n",
       "      <td>1.000000</td>\n",
       "      <td>1.000000</td>\n",
       "      <td>0.0</td>\n",
       "      <td>8.000000</td>\n",
       "      <td>800000.000000</td>\n",
       "      <td>4.000000</td>\n",
       "      <td>10934.000000</td>\n",
       "      <td>4.900000</td>\n",
       "    </tr>\n",
       "  </tbody>\n",
       "</table>\n",
       "</div>"
      ],
      "text/plain": [
       "                 id  has_online_delivery  has_table_booking  \\\n",
       "count  5.863000e+03          5863.000000        5863.000000   \n",
       "mean   8.744872e+06             0.211837           0.172096   \n",
       "std    8.420713e+06             0.408645           0.377496   \n",
       "min    4.000000e+00             0.000000           0.000000   \n",
       "25%    3.035740e+05             0.000000           0.000000   \n",
       "50%    5.915547e+06             0.000000           0.000000   \n",
       "75%    1.816160e+07             0.000000           0.000000   \n",
       "max    1.849649e+07             1.000000           1.000000   \n",
       "\n",
       "       is_delivering_now  switch_to_order_menu     cuisines  \\\n",
       "count        5863.000000                5863.0  5863.000000   \n",
       "mean            0.001364                   0.0     2.421457   \n",
       "std             0.036917                   0.0     1.256548   \n",
       "min             0.000000                   0.0     1.000000   \n",
       "25%             0.000000                   0.0     1.000000   \n",
       "50%             0.000000                   0.0     2.000000   \n",
       "75%             0.000000                   0.0     3.000000   \n",
       "max             1.000000                   0.0     8.000000   \n",
       "\n",
       "       average_cost_for_two  price_range         votes  aggregate_rating  \n",
       "count           5863.000000  5863.000000   5863.000000       5863.000000  \n",
       "mean            2512.196657     2.327477    593.585195          3.441958  \n",
       "std            23041.702274     0.979424   1004.168178          1.243756  \n",
       "min                0.000000     1.000000      0.000000          0.000000  \n",
       "25%              150.000000     2.000000     28.000000          3.300000  \n",
       "50%              550.000000     2.000000    152.000000          3.800000  \n",
       "75%             1100.000000     3.000000    671.500000          4.200000  \n",
       "max           800000.000000     4.000000  10934.000000          4.900000  "
      ]
     },
     "execution_count": 2,
     "metadata": {},
     "output_type": "execute_result"
    }
   ],
   "source": [
    "def selection_json(values,iterate):\n",
    "    for i in range(iterate):\n",
    "        for value in values[i][\"restaurants\"]:\n",
    "            item = {\n",
    "                \"id\": value[\"restaurant\"][\"R\"][\"res_id\"],\n",
    "                \"has_online_delivery\":value[\"restaurant\"][\"has_online_delivery\"],\n",
    "                \"has_table_booking\":value[\"restaurant\"][\"has_table_booking\"],\n",
    "                \"is_delivering_now\":value[\"restaurant\"][\"is_delivering_now\"],\n",
    "                \"switch_to_order_menu\":value[\"restaurant\"][\"switch_to_order_menu\"],\n",
    "                \"cuisines\":len(value[\"restaurant\"][\"cuisines\"].split(\",\")),\n",
    "                \"average_cost_for_two\":value[\"restaurant\"][\"average_cost_for_two\"],\n",
    "                \"price_range\":value[\"restaurant\"][\"price_range\"],\n",
    "                \"votes\":value[\"restaurant\"][\"user_rating\"][\"votes\"],\n",
    "                \"aggregate_rating\":value[\"restaurant\"][\"user_rating\"][\"aggregate_rating\"],\n",
    "                }\n",
    "            data.append(item)\n",
    "\n",
    "data=[]\n",
    "jsonFile = open('data/file1.json')\n",
    "values = json.load(jsonFile)\n",
    "jsonFile.close()\n",
    "selection_json(values,itemNumberFile[0])\n",
    "jsonFile = open('data/file2.json')\n",
    "values = json.load(jsonFile)\n",
    "jsonFile.close()\n",
    "selection_json(values,itemNumberFile[1])\n",
    "jsonFile = open('data/file3.json')\n",
    "values = json.load(jsonFile)\n",
    "jsonFile.close()\n",
    "selection_json(values,itemNumberFile[2])\n",
    "jsonFile = open('data/file4.json')\n",
    "values = json.load(jsonFile)\n",
    "jsonFile.close()\n",
    "selection_json(values,itemNumberFile[3])\n",
    "jsonFile = open('data/file5.json')\n",
    "values = json.load(jsonFile)\n",
    "jsonFile.close()\n",
    "selection_json(values,itemNumberFile[4])\n",
    "jsonData=json.dumps(data)\n",
    "df = pd.read_json(jsonData)\n",
    "df.to_csv('zomato_df.csv')\n",
    "df.describe()"
   ]
  },
  {
   "cell_type": "markdown",
   "id": "c1cd940b",
   "metadata": {},
   "source": [
    "Change vote to vote/max"
   ]
  },
  {
   "cell_type": "code",
   "execution_count": 3,
   "id": "fdb5dda1",
   "metadata": {},
   "outputs": [],
   "source": [
    "vote_max=df[\"votes\"].max()\n",
    "df[\"votes\"]=df[\"votes\"]/vote_max"
   ]
  },
  {
   "cell_type": "markdown",
   "id": "c2c37ce8",
   "metadata": {},
   "source": [
    "## Normalize items of classification2\n",
    "cuisines, average cost for two, price range and votes should be normalized between 0 and 1"
   ]
  },
  {
   "cell_type": "code",
   "execution_count": 4,
   "id": "ea098726",
   "metadata": {},
   "outputs": [
    {
     "data": {
      "text/plain": [
       "Index(['id', 'has_online_delivery', 'has_table_booking', 'is_delivering_now',\n",
       "       'switch_to_order_menu', 'cuisines', 'average_cost_for_two',\n",
       "       'price_range', 'votes', 'aggregate_rating'],\n",
       "      dtype='object')"
      ]
     },
     "execution_count": 4,
     "metadata": {},
     "output_type": "execute_result"
    }
   ],
   "source": [
    "df.columns"
   ]
  },
  {
   "cell_type": "markdown",
   "id": "c0ee45aa",
   "metadata": {},
   "source": [
    "Transformation some data from pandas to numpy for standard use in scikit learn"
   ]
  },
  {
   "cell_type": "code",
   "execution_count": 5,
   "id": "2f6814ea",
   "metadata": {},
   "outputs": [],
   "source": [
    "c2=df[[\"cuisines\",\"average_cost_for_two\",\"price_range\",\"votes\"]].values\n",
    "df=df[[\"id\", \"has_online_delivery\", \"has_table_booking\", \"is_delivering_now\",\"switch_to_order_menu\",\"aggregate_rating\"]]"
   ]
  },
  {
   "cell_type": "markdown",
   "id": "b81a30e5",
   "metadata": {},
   "source": [
    "Normalize data with min-max scaler "
   ]
  },
  {
   "cell_type": "code",
   "execution_count": 6,
   "id": "8e4f20aa",
   "metadata": {},
   "outputs": [],
   "source": [
    "scaler = preprocessing.MinMaxScaler(feature_range=(0, 1)).fit(c2)\n",
    "c2=scaler.transform(c2)\n",
    "c2 = pd.DataFrame(data=c2 , columns=[\"cuisines\",\"average_cost_for_two\",\"price_range\",\"votes\"])"
   ]
  },
  {
   "cell_type": "markdown",
   "id": "4a222cae",
   "metadata": {},
   "source": [
    "Concat class1 and normalized class2 & Ronded aggregate_rating parameter"
   ]
  },
  {
   "cell_type": "code",
   "execution_count": 7,
   "id": "7a1c3e3a",
   "metadata": {},
   "outputs": [
    {
     "data": {
      "text/html": [
       "<div>\n",
       "<style scoped>\n",
       "    .dataframe tbody tr th:only-of-type {\n",
       "        vertical-align: middle;\n",
       "    }\n",
       "\n",
       "    .dataframe tbody tr th {\n",
       "        vertical-align: top;\n",
       "    }\n",
       "\n",
       "    .dataframe thead th {\n",
       "        text-align: right;\n",
       "    }\n",
       "</style>\n",
       "<table border=\"1\" class=\"dataframe\">\n",
       "  <thead>\n",
       "    <tr style=\"text-align: right;\">\n",
       "      <th></th>\n",
       "      <th>id</th>\n",
       "      <th>has_online_delivery</th>\n",
       "      <th>has_table_booking</th>\n",
       "      <th>is_delivering_now</th>\n",
       "      <th>switch_to_order_menu</th>\n",
       "      <th>aggregate_rating</th>\n",
       "      <th>cuisines</th>\n",
       "      <th>average_cost_for_two</th>\n",
       "      <th>price_range</th>\n",
       "      <th>votes</th>\n",
       "    </tr>\n",
       "  </thead>\n",
       "  <tbody>\n",
       "    <tr>\n",
       "      <th>0</th>\n",
       "      <td>308322</td>\n",
       "      <td>1</td>\n",
       "      <td>1</td>\n",
       "      <td>0</td>\n",
       "      <td>0</td>\n",
       "      <td>4</td>\n",
       "      <td>0.428571</td>\n",
       "      <td>0.002000</td>\n",
       "      <td>0.666667</td>\n",
       "      <td>0.725352</td>\n",
       "    </tr>\n",
       "    <tr>\n",
       "      <th>1</th>\n",
       "      <td>18037817</td>\n",
       "      <td>0</td>\n",
       "      <td>1</td>\n",
       "      <td>0</td>\n",
       "      <td>0</td>\n",
       "      <td>5</td>\n",
       "      <td>0.714286</td>\n",
       "      <td>0.001875</td>\n",
       "      <td>0.666667</td>\n",
       "      <td>0.071154</td>\n",
       "    </tr>\n",
       "    <tr>\n",
       "      <th>2</th>\n",
       "      <td>312345</td>\n",
       "      <td>1</td>\n",
       "      <td>0</td>\n",
       "      <td>0</td>\n",
       "      <td>0</td>\n",
       "      <td>4</td>\n",
       "      <td>0.428571</td>\n",
       "      <td>0.001063</td>\n",
       "      <td>0.333333</td>\n",
       "      <td>0.140571</td>\n",
       "    </tr>\n",
       "    <tr>\n",
       "      <th>3</th>\n",
       "      <td>307490</td>\n",
       "      <td>0</td>\n",
       "      <td>1</td>\n",
       "      <td>0</td>\n",
       "      <td>0</td>\n",
       "      <td>4</td>\n",
       "      <td>0.142857</td>\n",
       "      <td>0.002313</td>\n",
       "      <td>0.666667</td>\n",
       "      <td>0.166728</td>\n",
       "    </tr>\n",
       "    <tr>\n",
       "      <th>4</th>\n",
       "      <td>18241537</td>\n",
       "      <td>0</td>\n",
       "      <td>1</td>\n",
       "      <td>0</td>\n",
       "      <td>0</td>\n",
       "      <td>4</td>\n",
       "      <td>0.428571</td>\n",
       "      <td>0.002000</td>\n",
       "      <td>0.666667</td>\n",
       "      <td>0.076825</td>\n",
       "    </tr>\n",
       "  </tbody>\n",
       "</table>\n",
       "</div>"
      ],
      "text/plain": [
       "         id  has_online_delivery  has_table_booking  is_delivering_now  \\\n",
       "0    308322                    1                  1                  0   \n",
       "1  18037817                    0                  1                  0   \n",
       "2    312345                    1                  0                  0   \n",
       "3    307490                    0                  1                  0   \n",
       "4  18241537                    0                  1                  0   \n",
       "\n",
       "   switch_to_order_menu  aggregate_rating  cuisines  average_cost_for_two  \\\n",
       "0                     0                 4  0.428571              0.002000   \n",
       "1                     0                 5  0.714286              0.001875   \n",
       "2                     0                 4  0.428571              0.001063   \n",
       "3                     0                 4  0.142857              0.002313   \n",
       "4                     0                 4  0.428571              0.002000   \n",
       "\n",
       "   price_range     votes  \n",
       "0     0.666667  0.725352  \n",
       "1     0.666667  0.071154  \n",
       "2     0.333333  0.140571  \n",
       "3     0.666667  0.166728  \n",
       "4     0.666667  0.076825  "
      ]
     },
     "execution_count": 7,
     "metadata": {},
     "output_type": "execute_result"
    }
   ],
   "source": [
    "data = pd.concat([df, c2], axis=1)\n",
    "data.loc[(data[\"aggregate_rating\"] >= 4.5), 'aggregate_rating'] = 5\n",
    "data.loc[(data[\"aggregate_rating\"] >= 3.8) & (data[\"aggregate_rating\"] < 4.5), 'aggregate_rating'] = 4\n",
    "data.loc[(data[\"aggregate_rating\"] >= 2.8) & (data[\"aggregate_rating\"] < 3.8), 'aggregate_rating'] = 3\n",
    "data.loc[(data[\"aggregate_rating\"] >= 1.8) & (data[\"aggregate_rating\"] < 2.8), 'aggregate_rating'] = 2\n",
    "data.loc[(data[\"aggregate_rating\"] < 1.8), 'aggregate_rating'] = 1\n",
    "data[\"aggregate_rating\"]=data[\"aggregate_rating\"].astype(int)\n",
    "data.head()"
   ]
  },
  {
   "cell_type": "code",
   "execution_count": 8,
   "id": "2f6609d8",
   "metadata": {},
   "outputs": [
    {
     "data": {
      "image/png": "[encoded data removed]",
      "text/plain": [
       "<Figure size 432x288 with 1 Axes>"
      ]
     },
     "metadata": {
      "needs_background": "light"
     },
     "output_type": "display_data"
    }
   ],
   "source": [
    "rating_histogram = Counter(data[\"aggregate_rating\"])\n",
    "plt.bar(rating_histogram.keys(), rating_histogram.values())\n",
    "plt.show()"
   ]
  },
  {
   "cell_type": "markdown",
   "id": "0e3b553f",
   "metadata": {},
   "source": [
    "# Over sampling\n",
    "oversampling helps to data balance on user rating"
   ]
  },
  {
   "cell_type": "code",
   "execution_count": 9,
   "id": "8b46e05e",
   "metadata": {},
   "outputs": [
    {
     "data": {
      "image/png": "[encoded data removed]",
      "text/plain": [
       "<Figure size 432x288 with 1 Axes>"
      ]
     },
     "metadata": {
      "needs_background": "light"
     },
     "output_type": "display_data"
    }
   ],
   "source": [
    "from imblearn.over_sampling import SMOTE\n",
    "oversampel_x=data[[\"id\", \"has_online_delivery\", \"has_table_booking\", \"is_delivering_now\",\"switch_to_order_menu\",\"cuisines\",\"average_cost_for_two\",\"price_range\",\"votes\"]].values\n",
    "oversampel_y=data[[\"aggregate_rating\"]].values\n",
    "\n",
    "ratingCount = []\n",
    "temp_key = []\n",
    "for i in range(1,6):  \n",
    "    ratingCount.append(data.loc[(data[\"aggregate_rating\"] == i )].count().aggregate_rating)\n",
    "max_key = ratingCount.index(np.max(ratingCount))+1\n",
    "min_key = ratingCount.index(np.min(ratingCount))+1\n",
    "if(ratingCount[max_key-1]*0.55 > ratingCount[min_key-1]):\n",
    "    max_value = ratingCount[max_key-1]\n",
    "    min_value = (max_value*0.45).astype(int)\n",
    "else:\n",
    "    max_value = ratingCount[max_key-1]\n",
    "    min_value=ratingCount[min_key-1]\n",
    "    \n",
    "temp_value = []\n",
    "temp_grow = []   \n",
    "for i in range(5):\n",
    "    if(i!= max_key-1 and i!= min_key-1):\n",
    "        temp_key.append(i+1) \n",
    "for i in range(3):\n",
    "    temp_grow.append(ratingCount[temp_key[i]-1]/ratingCount[min_key-1])\n",
    "temp_grow_sum = sum(temp_grow)\n",
    "for i in range(3):\n",
    "    temp_grow[i]=temp_grow[i]/temp_grow_sum\n",
    "for i in range(3):\n",
    "    temp_value.append(((max_value - min_value)*(temp_grow[i]) + min_value).astype(int)) \n",
    "strategy = {\n",
    "    max_key: max_value,\n",
    "    min_key: min_value,\n",
    "    temp_key[0]: temp_value[0],\n",
    "    temp_key[1]: temp_value[1],\n",
    "    temp_key[2]: temp_value[2],\n",
    "}\n",
    "\n",
    "oversample = SMOTE(sampling_strategy=strategy)\n",
    "oversampel_x, oversampel_y = oversample.fit_resample(oversampel_x, oversampel_y)\n",
    "counter = Counter(oversampel_y)\n",
    "oversampel_x = pd.DataFrame(data=oversampel_x , columns=[\"id\", \"has_online_delivery\", \"has_table_booking\", \"is_delivering_now\",\"switch_to_order_menu\",\"cuisines\",\"average_cost_for_two\",\"price_range\",\"votes\"])\n",
    "oversampel_y = pd.DataFrame(data=oversampel_y , columns=[\"aggregate_rating\"])\n",
    "data = pd.concat([oversampel_x, oversampel_y], axis=1)\n",
    "plt.bar(counter.keys(), counter.values())\n",
    "plt.show()"
   ]
  },
  {
   "cell_type": "markdown",
   "id": "a865b4dd",
   "metadata": {},
   "source": [
    "Pre processing and Check data type"
   ]
  },
  {
   "cell_type": "code",
   "execution_count": 10,
   "id": "488bf369",
   "metadata": {},
   "outputs": [
    {
     "data": {
      "text/plain": [
       "id                      float64\n",
       "has_online_delivery     float64\n",
       "has_table_booking       float64\n",
       "is_delivering_now       float64\n",
       "switch_to_order_menu    float64\n",
       "cuisines                float64\n",
       "average_cost_for_two    float64\n",
       "price_range             float64\n",
       "votes                   float64\n",
       "aggregate_rating          int32\n",
       "dtype: object"
      ]
     },
     "execution_count": 10,
     "metadata": {},
     "output_type": "execute_result"
    }
   ],
   "source": [
    "data.dtypes"
   ]
  },
  {
   "cell_type": "code",
   "execution_count": 11,
   "id": "2a6c673a",
   "metadata": {},
   "outputs": [
    {
     "data": {
      "image/jpeg": "[encoded data removed]",
      "text/plain": [
       "<IPython.core.display.Image object>"
      ]
     },
     "execution_count": 11,
     "metadata": {},
     "output_type": "execute_result"
    }
   ],
   "source": [
    "feature_c1 = data[[\"has_online_delivery\", \"has_table_booking\", \"is_delivering_now\",\"switch_to_order_menu\"]]\n",
    "feature_c2 = data[[\"cuisines\",\"average_cost_for_two\",\"price_range\",\"votes\"]]\n",
    "from IPython import display\n",
    "display.Image(\"image/Capture.JPG\")"
   ]
  },
  {
   "cell_type": "markdown",
   "id": "95003371",
   "metadata": {},
   "source": [
    "# clustering\n",
    "with k-means method"
   ]
  },
  {
   "cell_type": "code",
   "execution_count": 12,
   "id": "873ffbe5",
   "metadata": {},
   "outputs": [],
   "source": [
    "k_means1 = KMeans(init = \"random\", n_clusters = 5, n_init = 20)\n",
    "k_means1.fit(feature_c1)\n",
    "labels1 = k_means1.labels_\n",
    "\n",
    "k_means2 = KMeans(init = \"random\", n_clusters = 5, n_init = 20)\n",
    "k_means2.fit(feature_c2)\n",
    "labels2 = k_means2.labels_"
   ]
  },
  {
   "cell_type": "markdown",
   "id": "4783540a",
   "metadata": {},
   "source": [
    "Sorting classfy label"
   ]
  },
  {
   "cell_type": "code",
   "execution_count": 13,
   "id": "0237e160",
   "metadata": {},
   "outputs": [],
   "source": [
    "center1 = np.argsort(k_means1.cluster_centers_.sum(axis=1))\n",
    "lut1 = np.zeros_like(center1)\n",
    "lut1[center1] = np.arange(1,6)\n",
    "data[\"classifier.1\"]=lut1[labels1]\n",
    "\n",
    "center2 = np.argsort(k_means2.cluster_centers_.sum(axis=1))\n",
    "lut2 = np.zeros_like(center2)\n",
    "lut2[center2] = np.arange(1,6)\n",
    "data[\"classifier.2\"]=lut2[labels2]"
   ]
  },
  {
   "cell_type": "markdown",
   "id": "8755689a",
   "metadata": {},
   "source": [
    "## Stick label from result clustering "
   ]
  },
  {
   "cell_type": "code",
   "execution_count": 14,
   "id": "acb10f74",
   "metadata": {},
   "outputs": [
    {
     "data": {
      "text/html": [
       "<div>\n",
       "<style scoped>\n",
       "    .dataframe tbody tr th:only-of-type {\n",
       "        vertical-align: middle;\n",
       "    }\n",
       "\n",
       "    .dataframe tbody tr th {\n",
       "        vertical-align: top;\n",
       "    }\n",
       "\n",
       "    .dataframe thead th {\n",
       "        text-align: right;\n",
       "    }\n",
       "</style>\n",
       "<table border=\"1\" class=\"dataframe\">\n",
       "  <thead>\n",
       "    <tr style=\"text-align: right;\">\n",
       "      <th></th>\n",
       "      <th>id</th>\n",
       "      <th>has_online_delivery</th>\n",
       "      <th>has_table_booking</th>\n",
       "      <th>is_delivering_now</th>\n",
       "      <th>switch_to_order_menu</th>\n",
       "      <th>cuisines</th>\n",
       "      <th>average_cost_for_two</th>\n",
       "      <th>price_range</th>\n",
       "      <th>votes</th>\n",
       "      <th>aggregate_rating</th>\n",
       "      <th>classifier.1</th>\n",
       "      <th>classifier.2</th>\n",
       "      <th>output label</th>\n",
       "    </tr>\n",
       "  </thead>\n",
       "  <tbody>\n",
       "    <tr>\n",
       "      <th>0</th>\n",
       "      <td>308322.0</td>\n",
       "      <td>1.0</td>\n",
       "      <td>1.0</td>\n",
       "      <td>0.0</td>\n",
       "      <td>0.0</td>\n",
       "      <td>0.428571</td>\n",
       "      <td>0.002000</td>\n",
       "      <td>0.666667</td>\n",
       "      <td>0.725352</td>\n",
       "      <td>4</td>\n",
       "      <td>5</td>\n",
       "      <td>5</td>\n",
       "      <td>Delivery &amp; Classy ambiance</td>\n",
       "    </tr>\n",
       "    <tr>\n",
       "      <th>1</th>\n",
       "      <td>18037817.0</td>\n",
       "      <td>0.0</td>\n",
       "      <td>1.0</td>\n",
       "      <td>0.0</td>\n",
       "      <td>0.0</td>\n",
       "      <td>0.714286</td>\n",
       "      <td>0.001875</td>\n",
       "      <td>0.666667</td>\n",
       "      <td>0.071154</td>\n",
       "      <td>5</td>\n",
       "      <td>3</td>\n",
       "      <td>5</td>\n",
       "      <td>Delivery &amp; Classy ambiance</td>\n",
       "    </tr>\n",
       "    <tr>\n",
       "      <th>2</th>\n",
       "      <td>312345.0</td>\n",
       "      <td>1.0</td>\n",
       "      <td>0.0</td>\n",
       "      <td>0.0</td>\n",
       "      <td>0.0</td>\n",
       "      <td>0.428571</td>\n",
       "      <td>0.001063</td>\n",
       "      <td>0.333333</td>\n",
       "      <td>0.140571</td>\n",
       "      <td>4</td>\n",
       "      <td>4</td>\n",
       "      <td>2</td>\n",
       "      <td>Delivery</td>\n",
       "    </tr>\n",
       "    <tr>\n",
       "      <th>3</th>\n",
       "      <td>307490.0</td>\n",
       "      <td>0.0</td>\n",
       "      <td>1.0</td>\n",
       "      <td>0.0</td>\n",
       "      <td>0.0</td>\n",
       "      <td>0.142857</td>\n",
       "      <td>0.002313</td>\n",
       "      <td>0.666667</td>\n",
       "      <td>0.166728</td>\n",
       "      <td>4</td>\n",
       "      <td>3</td>\n",
       "      <td>3</td>\n",
       "      <td>Delivery &amp; Classy ambiance</td>\n",
       "    </tr>\n",
       "    <tr>\n",
       "      <th>4</th>\n",
       "      <td>18241537.0</td>\n",
       "      <td>0.0</td>\n",
       "      <td>1.0</td>\n",
       "      <td>0.0</td>\n",
       "      <td>0.0</td>\n",
       "      <td>0.428571</td>\n",
       "      <td>0.002000</td>\n",
       "      <td>0.666667</td>\n",
       "      <td>0.076825</td>\n",
       "      <td>4</td>\n",
       "      <td>3</td>\n",
       "      <td>5</td>\n",
       "      <td>Delivery &amp; Classy ambiance</td>\n",
       "    </tr>\n",
       "  </tbody>\n",
       "</table>\n",
       "</div>"
      ],
      "text/plain": [
       "           id  has_online_delivery  has_table_booking  is_delivering_now  \\\n",
       "0    308322.0                  1.0                1.0                0.0   \n",
       "1  18037817.0                  0.0                1.0                0.0   \n",
       "2    312345.0                  1.0                0.0                0.0   \n",
       "3    307490.0                  0.0                1.0                0.0   \n",
       "4  18241537.0                  0.0                1.0                0.0   \n",
       "\n",
       "   switch_to_order_menu  cuisines  average_cost_for_two  price_range  \\\n",
       "0                   0.0  0.428571              0.002000     0.666667   \n",
       "1                   0.0  0.714286              0.001875     0.666667   \n",
       "2                   0.0  0.428571              0.001063     0.333333   \n",
       "3                   0.0  0.142857              0.002313     0.666667   \n",
       "4                   0.0  0.428571              0.002000     0.666667   \n",
       "\n",
       "      votes  aggregate_rating  classifier.1  classifier.2  \\\n",
       "0  0.725352                 4             5             5   \n",
       "1  0.071154                 5             3             5   \n",
       "2  0.140571                 4             4             2   \n",
       "3  0.166728                 4             3             3   \n",
       "4  0.076825                 4             3             5   \n",
       "\n",
       "                 output label  \n",
       "0  Delivery & Classy ambiance  \n",
       "1  Delivery & Classy ambiance  \n",
       "2                    Delivery  \n",
       "3  Delivery & Classy ambiance  \n",
       "4  Delivery & Classy ambiance  "
      ]
     },
     "execution_count": 14,
     "metadata": {},
     "output_type": "execute_result"
    }
   ],
   "source": [
    "data.loc[(data[\"classifier.1\"] >= 3) & (data[\"classifier.2\"] >= 3), 'output label'] = 'Delivery & Classy ambiance'\n",
    "data.loc[(data[\"classifier.1\"] >= 3) & (data[\"classifier.2\"] < 3), 'output label'] = 'Delivery'\n",
    "data.loc[(data[\"classifier.1\"] < 3) & (data[\"classifier.2\"] >= 3), 'output label'] = 'Classy ambiance'\n",
    "data.loc[(data[\"classifier.1\"] < 3) & (data[\"classifier.2\"] < 3), 'output label'] = 'Not any'\n",
    "data.head()"
   ]
  },
  {
   "cell_type": "code",
   "execution_count": 15,
   "id": "38e7c667",
   "metadata": {},
   "outputs": [
    {
     "data": {
      "text/html": [
       "<div>\n",
       "<style scoped>\n",
       "    .dataframe tbody tr th:only-of-type {\n",
       "        vertical-align: middle;\n",
       "    }\n",
       "\n",
       "    .dataframe tbody tr th {\n",
       "        vertical-align: top;\n",
       "    }\n",
       "\n",
       "    .dataframe thead th {\n",
       "        text-align: right;\n",
       "    }\n",
       "</style>\n",
       "<table border=\"1\" class=\"dataframe\">\n",
       "  <thead>\n",
       "    <tr style=\"text-align: right;\">\n",
       "      <th></th>\n",
       "      <th>id</th>\n",
       "      <th>Restaurant Name</th>\n",
       "      <th>Country</th>\n",
       "      <th>classifier.1</th>\n",
       "      <th>classifier.2</th>\n",
       "      <th>aggregate_rating</th>\n",
       "      <th>output label</th>\n",
       "    </tr>\n",
       "  </thead>\n",
       "  <tbody>\n",
       "    <tr>\n",
       "      <th>0</th>\n",
       "      <td>6317637</td>\n",
       "      <td>Le Petit Souffle</td>\n",
       "      <td>Phillipines</td>\n",
       "      <td>3</td>\n",
       "      <td>3</td>\n",
       "      <td>5</td>\n",
       "      <td>Delivery &amp; Classy ambiance</td>\n",
       "    </tr>\n",
       "    <tr>\n",
       "      <th>1</th>\n",
       "      <td>6304287</td>\n",
       "      <td>Izakaya Kikufuji</td>\n",
       "      <td>Phillipines</td>\n",
       "      <td>3</td>\n",
       "      <td>3</td>\n",
       "      <td>5</td>\n",
       "      <td>Delivery &amp; Classy ambiance</td>\n",
       "    </tr>\n",
       "    <tr>\n",
       "      <th>2</th>\n",
       "      <td>6300002</td>\n",
       "      <td>Heat - Edsa Shangri-La</td>\n",
       "      <td>Phillipines</td>\n",
       "      <td>3</td>\n",
       "      <td>4</td>\n",
       "      <td>4</td>\n",
       "      <td>Delivery &amp; Classy ambiance</td>\n",
       "    </tr>\n",
       "    <tr>\n",
       "      <th>3</th>\n",
       "      <td>6318506</td>\n",
       "      <td>Ooma</td>\n",
       "      <td>Phillipines</td>\n",
       "      <td>1</td>\n",
       "      <td>4</td>\n",
       "      <td>5</td>\n",
       "      <td>Classy ambiance</td>\n",
       "    </tr>\n",
       "    <tr>\n",
       "      <th>4</th>\n",
       "      <td>6314302</td>\n",
       "      <td>Sambo Kojin</td>\n",
       "      <td>Phillipines</td>\n",
       "      <td>3</td>\n",
       "      <td>4</td>\n",
       "      <td>5</td>\n",
       "      <td>Delivery &amp; Classy ambiance</td>\n",
       "    </tr>\n",
       "    <tr>\n",
       "      <th>...</th>\n",
       "      <td>...</td>\n",
       "      <td>...</td>\n",
       "      <td>...</td>\n",
       "      <td>...</td>\n",
       "      <td>...</td>\n",
       "      <td>...</td>\n",
       "      <td>...</td>\n",
       "    </tr>\n",
       "    <tr>\n",
       "      <th>6998</th>\n",
       "      <td>5915730</td>\n",
       "      <td>NamlÛ± Gurme</td>\n",
       "      <td>Turkey</td>\n",
       "      <td>1</td>\n",
       "      <td>3</td>\n",
       "      <td>4</td>\n",
       "      <td>Classy ambiance</td>\n",
       "    </tr>\n",
       "    <tr>\n",
       "      <th>6999</th>\n",
       "      <td>5908749</td>\n",
       "      <td>Ceviz AÛôacÛ±</td>\n",
       "      <td>Turkey</td>\n",
       "      <td>1</td>\n",
       "      <td>3</td>\n",
       "      <td>4</td>\n",
       "      <td>Classy ambiance</td>\n",
       "    </tr>\n",
       "    <tr>\n",
       "      <th>7000</th>\n",
       "      <td>5915807</td>\n",
       "      <td>Huqqa</td>\n",
       "      <td>Turkey</td>\n",
       "      <td>1</td>\n",
       "      <td>4</td>\n",
       "      <td>3</td>\n",
       "      <td>Classy ambiance</td>\n",
       "    </tr>\n",
       "    <tr>\n",
       "      <th>7001</th>\n",
       "      <td>5916112</td>\n",
       "      <td>Aôôk Kahve</td>\n",
       "      <td>Turkey</td>\n",
       "      <td>1</td>\n",
       "      <td>4</td>\n",
       "      <td>4</td>\n",
       "      <td>Classy ambiance</td>\n",
       "    </tr>\n",
       "    <tr>\n",
       "      <th>7002</th>\n",
       "      <td>5927402</td>\n",
       "      <td>Walter's Coffee Roastery</td>\n",
       "      <td>Turkey</td>\n",
       "      <td>1</td>\n",
       "      <td>2</td>\n",
       "      <td>4</td>\n",
       "      <td>Not any</td>\n",
       "    </tr>\n",
       "  </tbody>\n",
       "</table>\n",
       "<p>7003 rows × 7 columns</p>\n",
       "</div>"
      ],
      "text/plain": [
       "           id           Restaurant Name      Country  classifier.1  \\\n",
       "0     6317637          Le Petit Souffle  Phillipines             3   \n",
       "1     6304287          Izakaya Kikufuji  Phillipines             3   \n",
       "2     6300002    Heat - Edsa Shangri-La  Phillipines             3   \n",
       "3     6318506                      Ooma  Phillipines             1   \n",
       "4     6314302               Sambo Kojin  Phillipines             3   \n",
       "...       ...                       ...          ...           ...   \n",
       "6998  5915730              NamlÛ± Gurme       Turkey             1   \n",
       "6999  5908749             Ceviz AÛôacÛ±       Turkey             1   \n",
       "7000  5915807                     Huqqa       Turkey             1   \n",
       "7001  5916112              Aôôk Kahve       Turkey             1   \n",
       "7002  5927402  Walter's Coffee Roastery       Turkey             1   \n",
       "\n",
       "      classifier.2  aggregate_rating                output label  \n",
       "0                3                 5  Delivery & Classy ambiance  \n",
       "1                3                 5  Delivery & Classy ambiance  \n",
       "2                4                 4  Delivery & Classy ambiance  \n",
       "3                4                 5             Classy ambiance  \n",
       "4                4                 5  Delivery & Classy ambiance  \n",
       "...            ...               ...                         ...  \n",
       "6998             3                 4             Classy ambiance  \n",
       "6999             3                 4             Classy ambiance  \n",
       "7000             4                 3             Classy ambiance  \n",
       "7001             4                 4             Classy ambiance  \n",
       "7002             2                 4                     Not any  \n",
       "\n",
       "[7003 rows x 7 columns]"
      ]
     },
     "execution_count": 15,
     "metadata": {},
     "output_type": "execute_result"
    }
   ],
   "source": [
    "zomato_csv = pd.read_csv('data/zomato.csv',encoding='ISO-8859-1')\n",
    "zomato_csv = zomato_csv[[\"Restaurant ID\",\"Restaurant Name\",\"Country Code\",\"City\"]]\n",
    "countryCode = pd.read_excel('data/Country-Code.xlsx')\n",
    "\n",
    "zomato_csv.columns = [\"id\", \"Restaurant Name\", \"Country Code\", \"City\"]\n",
    "countryCode.columns = [\"Country Code\", \"Country\"]\n",
    "data[\"id\"]=data[\"id\"].astype(int)\n",
    "data_merge = data[[\"id\", \"classifier.1\", \"classifier.2\", \"aggregate_rating\", \"output label\"]] \n",
    "\n",
    "\n",
    "result = pd.merge(zomato_csv, countryCode, how=\"inner\", on=\"Country Code\")\n",
    "result = result[[\"id\", \"Restaurant Name\", \"Country\"]]\n",
    "result = pd.merge(result, data_merge, how=\"inner\", on=\"id\")\n",
    "result"
   ]
  },
  {
   "cell_type": "code",
   "execution_count": 16,
   "id": "5df99b50",
   "metadata": {},
   "outputs": [],
   "source": [
    "x = data[[\"classifier.1\", \"classifier.2\"]]\n",
    "y = data[\"aggregate_rating\"]\n",
    "x=np.asarray(x)\n",
    "y=np.asarray(y).ravel()"
   ]
  },
  {
   "cell_type": "markdown",
   "id": "cf3cfdf1",
   "metadata": {},
   "source": [
    "## Train/Test\n",
    "Split data to two part train,test\n",
    "\n",
    "The SVM algorithm offers a choice of kernel functions for performing its processing. Basically, mapping data into a higher dimensional space is called kernelling.\n",
    "\n",
    "1. Linear\n",
    "2. Polynomial\n",
    "3. Gaussian Radial basis function (RBF)\n",
    "4. Sigmoid"
   ]
  },
  {
   "cell_type": "code",
   "execution_count": 17,
   "id": "ac06232a",
   "metadata": {},
   "outputs": [],
   "source": [
    "x_train , x_test , y_train , y_test = train_test_split(x , y , test_size=0.3 , random_state=5)"
   ]
  },
  {
   "cell_type": "markdown",
   "id": "74837639",
   "metadata": {},
   "source": [
    "Comparison kernel method of svm"
   ]
  },
  {
   "cell_type": "code",
   "execution_count": 18,
   "id": "e8249326",
   "metadata": {},
   "outputs": [
    {
     "data": {
      "text/plain": [
       "{'linear': [0.2169763258855698],\n",
       " 'poly': [0.19189514780777495],\n",
       " 'gaussian rbf': [0.28016306510157896]}"
      ]
     },
     "execution_count": 18,
     "metadata": {},
     "output_type": "execute_result"
    }
   ],
   "source": [
    "ks=[]\n",
    "kernels = [\"linear\", \"poly\", \"rbf\"]\n",
    "for i in kernels:\n",
    "    clf_test=svm.SVC(kernel=i)\n",
    "    clf_test.fit(x_train,y_train)\n",
    "    yhat_test=clf_test.predict(x_test)\n",
    "    ks.append(cohen_kappa_score(y_test, yhat_test))\n",
    "ksd = {'linear': [ks[0]], 'poly': [ks[1]], 'gaussian rbf': [ks[2]]}\n",
    "ksd"
   ]
  },
  {
   "cell_type": "markdown",
   "id": "170520f4",
   "metadata": {},
   "source": [
    "Predict user rating with supervise"
   ]
  },
  {
   "cell_type": "code",
   "execution_count": 20,
   "id": "33d9b3b6",
   "metadata": {},
   "outputs": [],
   "source": [
    "clf=svm.SVC(kernel=\"rbf\")\n",
    "clf.fit(x_train,y_train)\n",
    "yhat=clf.predict(x_test)"
   ]
  },
  {
   "cell_type": "markdown",
   "id": "63131850",
   "metadata": {},
   "source": [
    "## Confusion matrix and Analysis\n",
    "\n",
    "In this section, we calculate the accuracy, but since the kappa score is a better benchmark for multi-tag data, we use it as follows:\n",
    "\n",
    "- Kappa Less Than 0: \"VERY BAD\"\n",
    "- Kappa between 0 to 20: \"BAD\"\n",
    "- Kappa between 20 to 60: \"MIDDLE\"\n",
    "- Kappa between 20 to 60: \"GOOD\"\n",
    "- Kappa between 20 to 60: \"EXCELLENT\""
   ]
  },
  {
   "cell_type": "code",
   "execution_count": 21,
   "id": "ce035369",
   "metadata": {},
   "outputs": [],
   "source": [
    "from sklearn.metrics import classification_report, confusion_matrix\n",
    "import itertools\n",
    "def plot_confusion_matrix(cm, classes,\n",
    "                          normalize=False,\n",
    "                          title='Confusion matrix',\n",
    "                          cmap=plt.cm.Greens):\n",
    "    \"\"\"\n",
    "    This function prints and plots the confusion matrix.\n",
    "    Normalization can be applied by setting `normalize=True`.\n",
    "    \"\"\"\n",
    "    plt.imshow(cm, interpolation='nearest', cmap=cmap)\n",
    "    plt.title(title)\n",
    "    plt.colorbar()\n",
    "    tick_marks = np.arange(len(classes))\n",
    "    plt.xticks(tick_marks, classes, rotation=45)\n",
    "    plt.yticks(tick_marks, classes)\n",
    "\n",
    "    fmt = '.2f' if normalize else 'd'\n",
    "    thresh = cm.max() / 2.\n",
    "    for i, j in itertools.product(range(cm.shape[0]), range(cm.shape[1])):\n",
    "        plt.text(j, i, format(cm[i, j], fmt),\n",
    "                 horizontalalignment=\"center\",\n",
    "                 color=\"white\" if cm[i, j] > thresh else \"black\")\n",
    "\n",
    "    plt.tight_layout()\n",
    "    plt.ylabel('True label')\n",
    "    plt.xlabel('Predicted label')"
   ]
  },
  {
   "cell_type": "code",
   "execution_count": 22,
   "id": "dc2396fa",
   "metadata": {
    "scrolled": false
   },
   "outputs": [
    {
     "name": "stdout",
     "output_type": "stream",
     "text": [
      "              precision    recall  f1-score   support\n",
      "\n",
      "           1       0.48      0.71      0.57       444\n",
      "           2       0.42      0.34      0.38       370\n",
      "           3       0.35      0.28      0.31       620\n",
      "           4       0.50      0.60      0.55       787\n",
      "           5       0.49      0.29      0.37       419\n",
      "\n",
      "    accuracy                           0.46      2640\n",
      "   macro avg       0.45      0.44      0.43      2640\n",
      "weighted avg       0.45      0.46      0.44      2640\n",
      "\n",
      "Kappa Score 30\n"
     ]
    },
    {
     "data": {
      "image/png": "[encoded data removed]",
      "text/plain": [
       "<Figure size 432x288 with 2 Axes>"
      ]
     },
     "metadata": {
      "needs_background": "light"
     },
     "output_type": "display_data"
    }
   ],
   "source": [
    "# Compute confusion matrix\n",
    "cnf_matrix = confusion_matrix(y_test, yhat, labels=[1,2,3,4,5])\n",
    "np.set_printoptions(precision=2)\n",
    "\n",
    "print (classification_report(y_test, yhat))\n",
    "print(\"Kappa Score\" , (cohen_kappa_score(y_test, yhat)*100).astype(int))\n",
    "\n",
    "\n",
    "plt.figure()\n",
    "plot_confusion_matrix(cnf_matrix, classes=['class1','class2','class3','class4','class5'],normalize= False,  title='Confusion matrix')"
   ]
  },
  {
   "cell_type": "markdown",
   "id": "6daf90b0",
   "metadata": {},
   "source": [
    "## Accuracy curve Plot "
   ]
  },
  {
   "cell_type": "code",
   "execution_count": 23,
   "id": "9757b485",
   "metadata": {},
   "outputs": [
    {
     "data": {
      "image/png": "[encoded data removed]",
      "text/plain": [
       "<Figure size 432x288 with 1 Axes>"
      ]
     },
     "metadata": {
      "needs_background": "light"
     },
     "output_type": "display_data"
    }
   ],
   "source": [
    "def normalize_numpy(arr):\n",
    "    norm = np.linalg.norm(arr)\n",
    "    normal_array = arr/norm\n",
    "    return normal_array\n",
    "y_true = y_test == yhat\n",
    "y_pred = normalize_numpy(yhat)\n",
    "\n",
    "RocCurveDisplay.from_predictions(y_true, y_pred)\n",
    "plt.show()"
   ]
  },
  {
   "cell_type": "code",
   "execution_count": 24,
   "id": "45171ce6",
   "metadata": {},
   "outputs": [],
   "source": [
    "def predict_new_resturant(f1,f2,f3,f4,f5,f6,f7,f8):\n",
    "    \n",
    "    new_input1 = np.array([f1,f2,f3,f4])\n",
    "    temp_dist = 0\n",
    "    score1 = 0\n",
    "    for i in range(5):\n",
    "        dist = np.linalg.norm(new_input1 - k_means1.cluster_centers_[i])\n",
    "        if(temp_dist > dist or i==0):\n",
    "            temp_dist = dist\n",
    "            score1 = i\n",
    "    \n",
    "    new_input2 = np.array([f5,f6,f7,f8])\n",
    "    df_input2 = pd.DataFrame(data=new_input2.reshape(1, -1) , columns=[\"cuisines\",\"average_cost_for_two\",\"price_range\",\"votes\"])\n",
    "    df_input2 = df_input2.values\n",
    "    df_input2=scaler.transform(df_input2)\n",
    "    temp_dist = 0\n",
    "    score2 = 0\n",
    "    for i in range(5):\n",
    "        dist = np.linalg.norm(new_input2 - k_means2.cluster_centers_[i])\n",
    "        if(temp_dist > dist or i==0):\n",
    "            temp_dist = dist\n",
    "            score2 = i \n",
    "            \n",
    "    new_x = np.array([lut1[score1],lut2[score2]]).reshape(1, -1)\n",
    "    new_yhat=clf.predict(new_x)\n",
    "    output=[]\n",
    "    output.append(lut1[score1])\n",
    "    output.append(lut2[score2])\n",
    "    output.append(new_yhat)\n",
    "    return output"
   ]
  },
  {
   "cell_type": "code",
   "execution_count": 25,
   "id": "53bb6ef7",
   "metadata": {},
   "outputs": [
    {
     "name": "stdout",
     "output_type": "stream",
     "text": [
      "This resturant have: 'Good Delivery & High Classy ambiance' And user rate predict 4 out of 5\n"
     ]
    }
   ],
   "source": [
    "f1=0                #has_online_delivery\n",
    "f2=1                #has_table_booking\n",
    "f3=0                #is_delivering_now\n",
    "f4=0                #switch_to_order_menu\n",
    "f5=3                #cuisines\n",
    "f6=1200              #average_cost_for_two\n",
    "f7=3                #price_range\n",
    "f8=507/vote_max     #votes\n",
    "\n",
    "output = predict_new_resturant(f1,f2,f3,f4,f5,f6,f7,f8)\n",
    "cluster_input1= output[0]\n",
    "cluster_input2= output[1]\n",
    "new_yhat= output[2][0]\n",
    "\n",
    "if(cluster_input1>=3 and cluster_input2>=3):\n",
    "    print(\"This resturant have: 'Good Delivery & High Classy ambiance' And user rate predict %d out of 5\" % (new_yhat))\n",
    "elif(cluster_input1>=3 and cluster_input2<3):\n",
    "    print(\"This resturant have: 'Good Delivery' And user rate predict %d out of 5\" % (new_yhat))\n",
    "elif(cluster_input1<3 and cluster_input2>=3):\n",
    "    print(\"This resturant have: 'High Classy ambiance' And user rate predict %d out of 5\" % (new_yhat))\n",
    "elif(cluster_input1<3 and cluster_input2<3):\n",
    "    print(\"This resturant have: 'No Delivery No classy ambiance' And user rate predict %d out of 5\" % (new_yhat))"
   ]
  },
  {
   "cell_type": "code",
   "execution_count": null,
   "id": "11ec581e",
   "metadata": {},
   "outputs": [],
   "source": []
  }
 ],
 "metadata": {
  "kernelspec": {
   "display_name": "Python 3 (ipykernel)",
   "language": "python",
   "name": "python3"
  },
  "language_info": {
   "codemirror_mode": {
    "name": "ipython",
    "version": 3
   },
   "file_extension": ".py",
   "mimetype": "text/x-python",
   "name": "python",
   "nbconvert_exporter": "python",
   "pygments_lexer": "ipython3",
   "version": "3.9.5"
  }
 },
 "nbformat": 4,
 "nbformat_minor": 5
}
